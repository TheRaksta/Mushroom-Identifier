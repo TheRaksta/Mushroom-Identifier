{
 "cells": [
  {
   "cell_type": "code",
   "execution_count": 1,
   "metadata": {},
   "outputs": [],
   "source": [
    "import os\n",
    "import sys\n",
    "from PIL import Image\n",
    "from tqdm import tqdm\n",
    "\n",
    "# Add the parent directory to the Python path\n",
    "sys.path.append('..')\n",
    "\n",
    "# Define the source and destination directories using relative paths\n",
    "src_root = '../images/mushroom_dataset/'\n",
    "dst_root = '../images_reshaped/'\n",
    "\n",
    "# Create the destination root directory if it doesn't exist\n",
    "os.makedirs(dst_root, exist_ok=True)\n"
   ]
  },
  {
   "cell_type": "code",
   "execution_count": 2,
   "metadata": {},
   "outputs": [],
   "source": [
    "\n",
    "# Function to resize and save an image\n",
    "def resize_and_save_image(src_path, dst_path):\n",
    "    with Image.open(src_path) as img:\n",
    "        # Convert image to RGB mode if it's not\n",
    "        if img.mode != 'RGB':\n",
    "            img = img.convert('RGB')\n",
    "        \n",
    "        # Resize the image to 256x256\n",
    "        img_resized = img.resize((224, 224), Image.LANCZOS)\n",
    "        \n",
    "        # Save the resized image\n",
    "        img_resized.save(dst_path)\n",
    "\n"
   ]
  },
  {
   "cell_type": "code",
   "execution_count": 3,
   "metadata": {},
   "outputs": [
    {
     "name": "stdout",
     "output_type": "stream",
     "text": [
      "Starting image resizing process...\n",
      "Image resizing process completed.\n"
     ]
    }
   ],
   "source": [
    "# Function to process all images in a directory\n",
    "def process_directory(src_dir, dst_dir):\n",
    "    for root, dirs, files in os.walk(src_dir):\n",
    "        # Create corresponding directory in the destination\n",
    "        rel_path = os.path.relpath(root, src_dir)\n",
    "        new_dir = os.path.join(dst_dir, rel_path)\n",
    "        os.makedirs(new_dir, exist_ok=True)\n",
    "        \n",
    "        # Process all image files in the current directory\n",
    "        for file in files:\n",
    "            if file.lower().endswith(('.jpg', '.jpeg', '.png')):\n",
    "                src_path = os.path.join(root, file)\n",
    "                dst_path = os.path.join(new_dir, file)\n",
    "                resize_and_save_image(src_path, dst_path)\n",
    "\n",
    "# Main execution\n",
    "print(\"Starting image resizing process...\")\n",
    "process_directory(src_root, dst_root)\n",
    "print(\"Image resizing process completed.\")\n",
    "\n"
   ]
  },
  {
   "cell_type": "code",
   "execution_count": 4,
   "metadata": {},
   "outputs": [
    {
     "name": "stdout",
     "output_type": "stream",
     "text": [
      "Number of images in source directory: 8345\n",
      "Number of images in resized directory: 8345\n",
      "All images were successfully processed and resized.\n"
     ]
    }
   ],
   "source": [
    "# Count the number of images in both directories\n",
    "def count_images(directory):\n",
    "    count = 0\n",
    "    for root, dirs, files in os.walk(directory):\n",
    "        count += sum(1 for file in files if file.lower().endswith(('.jpg', '.jpeg', '.png')))\n",
    "    return count\n",
    "\n",
    "src_count = count_images(src_root)\n",
    "dst_count = count_images(dst_root)\n",
    "\n",
    "print(f\"Number of images in source directory: {src_count}\")\n",
    "print(f\"Number of images in resized directory: {dst_count}\")\n",
    "\n",
    "if src_count == dst_count:\n",
    "    print(\"All images were successfully processed and resized.\")\n",
    "else:\n",
    "    print(\"Warning: The number of source and resized images doesn't match. Some images may not have been processed.\")"
   ]
  },
  {
   "cell_type": "code",
   "execution_count": null,
   "metadata": {},
   "outputs": [],
   "source": []
  }
 ],
 "metadata": {
  "kernelspec": {
   "display_name": "Mushrooms",
   "language": "python",
   "name": "python3"
  },
  "language_info": {
   "codemirror_mode": {
    "name": "ipython",
    "version": 3
   },
   "file_extension": ".py",
   "mimetype": "text/x-python",
   "name": "python",
   "nbconvert_exporter": "python",
   "pygments_lexer": "ipython3",
   "version": "3.10.6"
  }
 },
 "nbformat": 4,
 "nbformat_minor": 2
}
