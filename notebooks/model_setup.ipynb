{
 "cells": [
  {
   "cell_type": "code",
   "execution_count": 2,
   "metadata": {},
   "outputs": [
    {
     "name": "stdout",
     "output_type": "stream",
     "text": [
      "Data preprocessing completed.\n",
      "Metadata saved as 'mushroom_metadata.pkl'.\n",
      "Image data saved as 'mushroom_images.npy'.\n",
      "Total images processed: 8781\n",
      "Number of edible mushrooms: 2475\n",
      "Number of non-edible mushrooms: 6306\n",
      "Number of unique species: 247\n",
      "Image shape: (256, 256, 3)\n"
     ]
    }
   ],
   "source": [
    "import os\n",
    "import pandas as pd\n",
    "import numpy as np\n",
    "from PIL import Image\n",
    "from tqdm import tqdm\n",
    "from sklearn.preprocessing import LabelEncoder\n",
    "import sys\n",
    "\n",
    "sys.path.append('..')\n",
    "\n",
    "# Set the path to your images_reshaped directory\n",
    "base_path = '../images_reshaped'\n",
    "\n",
    "# Initialize lists to store data\n",
    "data = []\n",
    "\n",
    "# Iterate through the directory structure\n",
    "for category in ['deadly', 'edible', 'poisonous', 'conditionally_edible']:\n",
    "    category_path = os.path.join(base_path, category)\n",
    "    for species_folder in os.listdir(category_path):\n",
    "        species_path = os.path.join(category_path, species_folder)\n",
    "        if os.path.isdir(species_path):\n",
    "            for image_file in os.listdir(species_path):\n",
    "                if image_file.lower().endswith(('.jpg', '.jpeg', '.png')):\n",
    "                    image_path = os.path.join(species_path, image_file)\n",
    "                    \n",
    "                    # Load and preprocess the image\n",
    "                    img = Image.open(image_path)\n",
    "                    img_array = np.array(img) / 255.0  # Normalize to [0, 1]\n",
    "                    \n",
    "                    data.append({\n",
    "                        'image_path': image_path,\n",
    "                        'category': category,\n",
    "                        'species': species_folder,\n",
    "                        'image': img_array\n",
    "                    })\n",
    "\n",
    "# Create the DataFrame\n",
    "df = pd.DataFrame(data)\n",
    "\n",
    "# Add the 'edible' column\n",
    "df['edible'] = (df['category'] == 'edible').astype(int)\n",
    "\n",
    "# Encode categories and species\n",
    "le_category = LabelEncoder()\n",
    "le_species = LabelEncoder()\n",
    "df['category_encoded'] = le_category.fit_transform(df['category'])\n",
    "df['species_encoded'] = le_species.fit_transform(df['species'])\n",
    "\n",
    "# Save the DataFrame without the 'image' column\n",
    "df_save = df.drop(columns=['image'])\n",
    "df_save.to_pickle('mushroom_metadata.pkl')\n",
    "\n",
    "# Save the image data separately\n",
    "np.save('mushroom_images.npy', np.stack(df['image'].values))\n",
    "\n",
    "print(\"Data preprocessing completed.\")\n",
    "print(f\"Metadata saved as 'mushroom_metadata.pkl'.\")\n",
    "print(f\"Image data saved as 'mushroom_images.npy'.\")\n",
    "print(f\"Total images processed: {len(df)}\")\n",
    "print(f\"Number of edible mushrooms: {df['edible'].sum()}\")\n",
    "print(f\"Number of non-edible mushrooms: {len(df) - df['edible'].sum()}\")\n",
    "print(f\"Number of unique species: {df['species'].nunique()}\")\n",
    "print(f\"Image shape: {df['image'].iloc[0].shape}\")"
   ]
  },
  {
   "cell_type": "code",
   "execution_count": 11,
   "metadata": {},
   "outputs": [
    {
     "data": {
      "text/plain": [
       "247"
      ]
     },
     "execution_count": 11,
     "metadata": {},
     "output_type": "execute_result"
    }
   ],
   "source": [
    "df['species_encoded'].nunique()"
   ]
  },
  {
   "cell_type": "code",
   "execution_count": null,
   "metadata": {},
   "outputs": [],
   "source": []
  }
 ],
 "metadata": {
  "kernelspec": {
   "display_name": "Mushrooms",
   "language": "python",
   "name": "python3"
  },
  "language_info": {
   "codemirror_mode": {
    "name": "ipython",
    "version": 3
   },
   "file_extension": ".py",
   "mimetype": "text/x-python",
   "name": "python",
   "nbconvert_exporter": "python",
   "pygments_lexer": "ipython3",
   "version": "3.10.6"
  }
 },
 "nbformat": 4,
 "nbformat_minor": 2
}
